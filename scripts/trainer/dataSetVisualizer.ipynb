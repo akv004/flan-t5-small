{
 "cells": [
  {
   "cell_type": "code",
   "id": "initial_id",
   "metadata": {
    "collapsed": true,
    "ExecuteTime": {
     "end_time": "2024-12-24T16:54:16.592177Z",
     "start_time": "2024-12-24T16:54:14.812526Z"
    }
   },
   "source": [
    "import pandas as pd\n",
    "from datasets import load_dataset\n",
    "import json\n",
    "\n",
    "# Load the dataset\n",
    "ds = load_dataset(\"ChristianAzinn/json-training\")\n",
    "\n",
    "# Convert the dataset to a DataFrame\n",
    "df = pd.DataFrame(ds['train'])\n",
    "\n",
    "# Print the original columns\n",
    "columns = df.columns\n",
    "print(\"Original columns:\", columns)\n",
    "\n",
    "df.head()\n",
    "# Define the preprocess_data function\n",
    "# def preprocess_data(row):\n",
    "#        try:\n",
    "#               # Replace newline characters with spaces\n",
    "#               cleaned_response = row['response'].replace('\\n', ' ')\n",
    "#               response_json = json.loads(cleaned_response)\n",
    "#               row['new_column'] = \"query:\" + row['query'] + \" --> \" + json.dumps(response_json, indent=2)\n",
    "#        except json.JSONDecodeError:\n",
    "#               row['new_column'] = \"query:\" + row['query'] + \" --> \" + row['response']\n",
    "#        return row\n",
    "# \n",
    "# # Apply the preprocess_data function to the DataFrame\n",
    "# df_modified = df.apply(preprocess_data, axis=1)\n",
    "# print(df_modified['new_column'].head())"
   ],
   "outputs": [
    {
     "name": "stdout",
     "output_type": "stream",
     "text": [
      "Original columns: Index(['query', 'schema', 'response'], dtype='object')\n"
     ]
    },
    {
     "data": {
      "text/plain": [
       "                                               query  \\\n",
       "0  Provide a detailed overview of the ITER tokama...   \n",
       "1  Provide a list of popular public speaking tech...   \n",
       "2  Provide a detailed breakdown of the ancient Me...   \n",
       "3  Generate a daily meditation schedule for a per...   \n",
       "4  Provide me with a list of international flight...   \n",
       "\n",
       "                                              schema  \\\n",
       "0  {\\n  \"type\": \"object\",\\n  \"properties\": {\\n   ...   \n",
       "1  {\\n  \"type\": \"object\",\\n  \"properties\": {\\n   ...   \n",
       "2  {\\n  \"type\": \"object\",\\n  \"properties\": {\\n   ...   \n",
       "3  {\\n  \"type\": \"object\",\\n  \"properties\": {\\n   ...   \n",
       "4  {\\n  \"type\": \"object\",\\n  \"properties\": {\\n   ...   \n",
       "\n",
       "                                            response  \n",
       "0  {\\n  \"tokamak\": {\\n    \"name\": \"ITER\",\\n    \"l...  \n",
       "1  {\\n  \"techniques\": [\\n    {\\n      \"name\": \"St...  \n",
       "2  {\\n  \"excavations\": [\\n    {\\n      \"year\": 20...  \n",
       "3  {\\n  \"meditationSchedule\": [\\n    {\\n      \"ti...  \n",
       "4  {\\n  \"flights\": [\\n    {\\n      \"flightNumber\"...  "
      ],
      "text/html": [
       "<div>\n",
       "<style scoped>\n",
       "    .dataframe tbody tr th:only-of-type {\n",
       "        vertical-align: middle;\n",
       "    }\n",
       "\n",
       "    .dataframe tbody tr th {\n",
       "        vertical-align: top;\n",
       "    }\n",
       "\n",
       "    .dataframe thead th {\n",
       "        text-align: right;\n",
       "    }\n",
       "</style>\n",
       "<table border=\"1\" class=\"dataframe\">\n",
       "  <thead>\n",
       "    <tr style=\"text-align: right;\">\n",
       "      <th></th>\n",
       "      <th>query</th>\n",
       "      <th>schema</th>\n",
       "      <th>response</th>\n",
       "    </tr>\n",
       "  </thead>\n",
       "  <tbody>\n",
       "    <tr>\n",
       "      <th>0</th>\n",
       "      <td>Provide a detailed overview of the ITER tokama...</td>\n",
       "      <td>{\\n  \"type\": \"object\",\\n  \"properties\": {\\n   ...</td>\n",
       "      <td>{\\n  \"tokamak\": {\\n    \"name\": \"ITER\",\\n    \"l...</td>\n",
       "    </tr>\n",
       "    <tr>\n",
       "      <th>1</th>\n",
       "      <td>Provide a list of popular public speaking tech...</td>\n",
       "      <td>{\\n  \"type\": \"object\",\\n  \"properties\": {\\n   ...</td>\n",
       "      <td>{\\n  \"techniques\": [\\n    {\\n      \"name\": \"St...</td>\n",
       "    </tr>\n",
       "    <tr>\n",
       "      <th>2</th>\n",
       "      <td>Provide a detailed breakdown of the ancient Me...</td>\n",
       "      <td>{\\n  \"type\": \"object\",\\n  \"properties\": {\\n   ...</td>\n",
       "      <td>{\\n  \"excavations\": [\\n    {\\n      \"year\": 20...</td>\n",
       "    </tr>\n",
       "    <tr>\n",
       "      <th>3</th>\n",
       "      <td>Generate a daily meditation schedule for a per...</td>\n",
       "      <td>{\\n  \"type\": \"object\",\\n  \"properties\": {\\n   ...</td>\n",
       "      <td>{\\n  \"meditationSchedule\": [\\n    {\\n      \"ti...</td>\n",
       "    </tr>\n",
       "    <tr>\n",
       "      <th>4</th>\n",
       "      <td>Provide me with a list of international flight...</td>\n",
       "      <td>{\\n  \"type\": \"object\",\\n  \"properties\": {\\n   ...</td>\n",
       "      <td>{\\n  \"flights\": [\\n    {\\n      \"flightNumber\"...</td>\n",
       "    </tr>\n",
       "  </tbody>\n",
       "</table>\n",
       "</div>"
      ]
     },
     "execution_count": 11,
     "metadata": {},
     "output_type": "execute_result"
    }
   ],
   "execution_count": 11
  },
  {
   "metadata": {},
   "cell_type": "code",
   "outputs": [],
   "execution_count": null,
   "source": "",
   "id": "e99e10e2aefcd2cc"
  }
 ],
 "metadata": {
  "kernelspec": {
   "display_name": "Python 3",
   "language": "python",
   "name": "python3"
  },
  "language_info": {
   "codemirror_mode": {
    "name": "ipython",
    "version": 2
   },
   "file_extension": ".py",
   "mimetype": "text/x-python",
   "name": "python",
   "nbconvert_exporter": "python",
   "pygments_lexer": "ipython2",
   "version": "2.7.6"
  }
 },
 "nbformat": 4,
 "nbformat_minor": 5
}
