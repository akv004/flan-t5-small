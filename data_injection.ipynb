{
 "cells": [
  {
   "cell_type": "code",
   "id": "initial_id",
   "metadata": {
    "collapsed": true,
    "ExecuteTime": {
     "end_time": "2024-12-21T21:27:34.157041Z",
     "start_time": "2024-12-21T21:27:33.882455Z"
    }
   },
   "source": [
    "import os\n",
    "import requests\n",
    "import pandas as pd\n",
    "import json\n",
    "import random\n",
    "\n",
    "# Ensure the data directory exists\n",
    "data_dir = './data'\n",
    "os.makedirs(data_dir, exist_ok=True)\n",
    "\n",
    "# Fetch JSON data from JSONPlaceholder\n",
    "users = []\n",
    "url = \"https://jsonplaceholder.typicode.com/users\"\n",
    "response = requests.get(url)\n",
    "data = response.json()\n",
    "for _ in range(10):  # Generate 10 sets of mock users\n",
    "    for user in data:\n",
    "        user_info = {\n",
    "            \"name\": user['name'],\n",
    "            \"age\": random.randint(18, 60),  # Generate random ages\n",
    "            \"city\": user['address']['city']\n",
    "        }\n",
    "        users.append(user_info)\n",
    "\n",
    "# Convert to DataFrame\n",
    "df = pd.DataFrame(users)\n",
    "print(\"DataFrame created:\\n\", df)\n",
    "\n",
    "# Split data into train and validation sets\n",
    "train_df = df.sample(frac=0.8, random_state=42)\n",
    "valid_df = df.drop(train_df.index)\n",
    "\n",
    "# Function to convert DataFrame to required format\n",
    "def convert_to_json_format(df):\n",
    "    lines = []\n",
    "    for _, row in df.iterrows():\n",
    "        input_text = f\"Convert this to JSON: name is {row['name']}, age is {row['age']}, and city is {row['city']}.\"\n",
    "        output_json = {\"name\": row['name'], \"age\": row['age'], \"city\": row['city']}\n",
    "        lines.append(f\"{input_text} -> {json.dumps(output_json)}\")\n",
    "    return lines\n",
    "\n",
    "# Convert data to required format\n",
    "train_lines = convert_to_json_format(train_df)\n",
    "valid_lines = convert_to_json_format(valid_df)\n",
    "\n",
    "# Write data to files\n",
    "def write_lines_to_file(file_path, lines):\n",
    "    with open(file_path, 'w') as file:\n",
    "        for line in lines:\n",
    "            file.write(f\"{line}\\n\")\n",
    "\n",
    "write_lines_to_file(os.path.join(data_dir, 'train.txt'), train_lines)\n",
    "write_lines_to_file(os.path.join(data_dir, 'valid.txt'), valid_lines)\n",
    "\n",
    "# Verify that the files have been written\n",
    "print(\"Data written to train.txt and valid.txt successfully\")\n"
   ],
   "outputs": [
    {
     "name": "stdout",
     "output_type": "stream",
     "text": [
      "DataFrame created:\n",
      "                         name  age            city\n",
      "0              Leanne Graham   47     Gwenborough\n",
      "1               Ervin Howell   36     Wisokyburgh\n",
      "2           Clementine Bauch   31   McKenziehaven\n",
      "3           Patricia Lebsack   19     South Elvis\n",
      "4           Chelsey Dietrich   54      Roscoeview\n",
      "..                       ...  ...             ...\n",
      "95      Mrs. Dennis Schulist   21   South Christy\n",
      "96           Kurtis Weissnat   26       Howemouth\n",
      "97  Nicholas Runolfsdottir V   39       Aliyaview\n",
      "98           Glenna Reichert   48  Bartholomebury\n",
      "99        Clementina DuBuque   27     Lebsackbury\n",
      "\n",
      "[100 rows x 3 columns]\n",
      "Data written to train.txt and valid.txt successfully\n"
     ]
    }
   ],
   "execution_count": 22
  }
 ],
 "metadata": {
  "kernelspec": {
   "display_name": "Python 3",
   "language": "python",
   "name": "python3"
  },
  "language_info": {
   "codemirror_mode": {
    "name": "ipython",
    "version": 2
   },
   "file_extension": ".py",
   "mimetype": "text/x-python",
   "name": "python",
   "nbconvert_exporter": "python",
   "pygments_lexer": "ipython2",
   "version": "2.7.6"
  }
 },
 "nbformat": 4,
 "nbformat_minor": 5
}
